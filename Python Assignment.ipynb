{
 "cells": [
  {
   "cell_type": "markdown",
   "id": "6a178253-be01-4f1a-bf68-60fa1d6d2d0a",
   "metadata": {},
   "source": [
    "# Q1. Which keyword is used to create a function? Create a function to return a list of odd numbers in the range of 1 to 25."
   ]
  },
  {
   "cell_type": "code",
   "execution_count": 1,
   "id": "01c0dfcc-8420-4229-bb19-292ce5825866",
   "metadata": {},
   "outputs": [],
   "source": [
    "\"\"\" The def keyword is used to create, (or define) a function. \"\"\"\n",
    "\n",
    "def odd():\n",
    "    c = []\n",
    "    for i in range(1,25):\n",
    "        if i % 2 ==0:\n",
    "            c.append(i)\n",
    "    return(c)\n",
    "    "
   ]
  },
  {
   "cell_type": "code",
   "execution_count": 2,
   "id": "63b1aff5-2094-454a-a4f2-baf470b36142",
   "metadata": {},
   "outputs": [
    {
     "data": {
      "text/plain": [
       "[2, 4, 6, 8, 10, 12, 14, 16, 18, 20, 22, 24]"
      ]
     },
     "execution_count": 2,
     "metadata": {},
     "output_type": "execute_result"
    }
   ],
   "source": [
    "odd()"
   ]
  },
  {
   "cell_type": "markdown",
   "id": "b3ac666e-6965-4255-b9f9-9432443884b5",
   "metadata": {},
   "source": [
    "# Why *args and **kwargs is used in some functions? Create a function each for *args and **kwargs to demonstrate their use."
   ]
  },
  {
   "cell_type": "code",
   "execution_count": 3,
   "id": "36b9516f-3d69-4ad6-8de2-b318c202db3e",
   "metadata": {},
   "outputs": [],
   "source": [
    "\"\"\" *args = Python has *args which allow us to pass the variable number of non keyword arguments to function. \n",
    "In the function, we should use an asterisk * before the parameter name to pass variable length arguments.\n",
    "The arguments are passed as a tuple and these passed arguments make tuple inside the function with same name \n",
    "as the parameter excluding asterisk (*)\"\"\"\n",
    "\n",
    "# Example\n",
    "\n",
    "def test(*ak):\n",
    "    return ak"
   ]
  },
  {
   "cell_type": "code",
   "execution_count": 4,
   "id": "c1b4bee3-d15a-451c-b1db-111a79d3aac7",
   "metadata": {},
   "outputs": [
    {
     "data": {
      "text/plain": [
       "(1, 3, 4, 5, 6, 7)"
      ]
     },
     "execution_count": 4,
     "metadata": {},
     "output_type": "execute_result"
    }
   ],
   "source": [
    "test(1,3,4,5,6,7)"
   ]
  },
  {
   "cell_type": "code",
   "execution_count": 5,
   "id": "6040a736-86e1-4ea3-a3b3-b09e68326ca1",
   "metadata": {},
   "outputs": [
    {
     "data": {
      "text/plain": [
       "tuple"
      ]
     },
     "execution_count": 5,
     "metadata": {},
     "output_type": "execute_result"
    }
   ],
   "source": [
    "type(test())"
   ]
  },
  {
   "cell_type": "code",
   "execution_count": 6,
   "id": "1e073492-7536-4e0b-b500-ab416375db0c",
   "metadata": {},
   "outputs": [],
   "source": [
    "\"\"\" **kwargs = In the function, we use the double asterisk ** before the parameter name to denote this type of argument. \n",
    "The arguments are passed as a dictionary and these arguments make a dictionary inside function with name same as the parameter \n",
    "excluding double asterisk **. \"\"\"\n",
    "\n",
    "# Example\n",
    "\n",
    "def test1(**a):\n",
    "    return a"
   ]
  },
  {
   "cell_type": "code",
   "execution_count": 7,
   "id": "57c5dbb2-b59c-4ea5-99a9-e32084459e57",
   "metadata": {},
   "outputs": [
    {
     "data": {
      "text/plain": [
       "{'A': 4, 'B': 'Good'}"
      ]
     },
     "execution_count": 7,
     "metadata": {},
     "output_type": "execute_result"
    }
   ],
   "source": [
    "test1( A = 4 , B = \"Good\")"
   ]
  },
  {
   "cell_type": "code",
   "execution_count": 8,
   "id": "5b41ac02-9390-4e32-9b76-2107795a6b6e",
   "metadata": {},
   "outputs": [
    {
     "data": {
      "text/plain": [
       "dict"
      ]
     },
     "execution_count": 8,
     "metadata": {},
     "output_type": "execute_result"
    }
   ],
   "source": [
    "type(test1())"
   ]
  },
  {
   "cell_type": "markdown",
   "id": "14450707-4ec9-403c-847e-13233b7e31a7",
   "metadata": {},
   "source": [
    "Q3. What is an iterator in python? Name the method used to initialise the iterator object and the method\n",
    "used for iteration. Use these methods to print the first five elements of the given list [2, 4, 6, 8, 10, 12, 14,\n",
    "16, 18, 20]."
   ]
  },
  {
   "cell_type": "code",
   "execution_count": 9,
   "id": "12b3865e-7bb3-447a-bb06-02f96fd2d2de",
   "metadata": {},
   "outputs": [],
   "source": [
    "\"\"\" Iterator =  iterator is an object that contains a countable number of values.\n",
    "Iterator is the thing we can easily get the data, object using next next print.\n",
    "\n",
    "The iterator consists of two methods: \n",
    "\n",
    "iter() and \n",
    "next().  \n",
    "\n",
    "Iter() method is used to initialize the iterator object so that the instance of this object can be used for iterating.\n",
    "myiterator = iter()\n",
    "\n",
    "The next() method is used to iterate over the iterable objects. The next() method returns the next value in the iterable object.\n",
    "\n",
    "item = next(myiterator)\n",
    "\n",
    "\"\"\" \n",
    "\n",
    "a = [2, 4, 6, 8, 10, 12, 14, 16, 18, 20]"
   ]
  },
  {
   "cell_type": "code",
   "execution_count": 10,
   "id": "394e7b80-c736-4c67-a068-9a88c5093cbd",
   "metadata": {},
   "outputs": [],
   "source": [
    "a1 = iter(a)"
   ]
  },
  {
   "cell_type": "code",
   "execution_count": 11,
   "id": "43bc1a42-37c5-42b0-822d-8889e3f86da9",
   "metadata": {},
   "outputs": [
    {
     "data": {
      "text/plain": [
       "2"
      ]
     },
     "execution_count": 11,
     "metadata": {},
     "output_type": "execute_result"
    }
   ],
   "source": [
    "next(a1)"
   ]
  },
  {
   "cell_type": "code",
   "execution_count": 12,
   "id": "f1077fab-c5fb-4bba-8e4f-2ef3425b7932",
   "metadata": {},
   "outputs": [
    {
     "data": {
      "text/plain": [
       "4"
      ]
     },
     "execution_count": 12,
     "metadata": {},
     "output_type": "execute_result"
    }
   ],
   "source": [
    "next(a1)"
   ]
  },
  {
   "cell_type": "code",
   "execution_count": 13,
   "id": "6f19de77-5e1b-45bf-8893-a1ba5a0c5926",
   "metadata": {},
   "outputs": [
    {
     "data": {
      "text/plain": [
       "6"
      ]
     },
     "execution_count": 13,
     "metadata": {},
     "output_type": "execute_result"
    }
   ],
   "source": [
    "next(a1)"
   ]
  },
  {
   "cell_type": "code",
   "execution_count": 14,
   "id": "aedee451-f4ec-4370-bd46-3189bba3df2d",
   "metadata": {},
   "outputs": [
    {
     "data": {
      "text/plain": [
       "8"
      ]
     },
     "execution_count": 14,
     "metadata": {},
     "output_type": "execute_result"
    }
   ],
   "source": [
    "next(a1)"
   ]
  },
  {
   "cell_type": "code",
   "execution_count": 15,
   "id": "41960ce4-3b6a-45ef-b37c-d269558cc4da",
   "metadata": {},
   "outputs": [
    {
     "data": {
      "text/plain": [
       "10"
      ]
     },
     "execution_count": 15,
     "metadata": {},
     "output_type": "execute_result"
    }
   ],
   "source": [
    "next(a1)"
   ]
  },
  {
   "cell_type": "markdown",
   "id": "a7303b03-9130-4faa-a7e8-0a3ce00abdf6",
   "metadata": {},
   "source": [
    "# Q4. What is a generator function in python? Why yield keyword is used? Give an example of a generator function."
   ]
  },
  {
   "cell_type": "raw",
   "id": "856c5da1-0b78-4067-90e6-50f802769695",
   "metadata": {},
   "source": [
    "Generator = Generators are simple ways of creating iterators. It is a function that returns an iterator, that we can iterate over (one value at a time).\n",
    "\n",
    "yield = yield in Python can be used like the return statement in a function. When done so, the function instead of returning the output, it returns a generator that can be iterated upon.\n",
    "\n"
   ]
  },
  {
   "cell_type": "code",
   "execution_count": 16,
   "id": "362caf86-31ce-4496-93d6-dedca213a23e",
   "metadata": {},
   "outputs": [],
   "source": [
    "def exp_gen(a):\n",
    "    for i in range(a):\n",
    "        yield i"
   ]
  },
  {
   "cell_type": "code",
   "execution_count": 17,
   "id": "bc1b4979-4aeb-404b-b13f-ac3977133849",
   "metadata": {},
   "outputs": [
    {
     "data": {
      "text/plain": [
       "[0, 1, 2, 3, 4, 5, 6, 7]"
      ]
     },
     "execution_count": 17,
     "metadata": {},
     "output_type": "execute_result"
    }
   ],
   "source": [
    "list(exp_gen(8))"
   ]
  },
  {
   "cell_type": "markdown",
   "id": "1d107c9a-c490-445a-b984-5f05da844d6a",
   "metadata": {},
   "source": [
    "# Q5. Create a generator function for prime numbers less than 1000. Use the next() method to print the first 20 prime numbers."
   ]
  },
  {
   "cell_type": "code",
   "execution_count": 26,
   "id": "88297c3c-8700-418f-a1bd-b42719d576e7",
   "metadata": {},
   "outputs": [],
   "source": [
    "def primes():\n",
    "    yield 2\n",
    "    primes_found = [2]\n",
    "    n = 3\n",
    "    while n < 1000:\n",
    "        is_prime = True\n",
    "        for p in primes_found:\n",
    "            if n % p == 0:\n",
    "                is_prime = False\n",
    "                break\n",
    "                \n",
    "        if is_prime:\n",
    "                yield n\n",
    "                primes_found.append(n)\n",
    "        n += 2"
   ]
  },
  {
   "cell_type": "code",
   "execution_count": 27,
   "id": "022142dd-91b5-42e4-837a-531889d3b7e5",
   "metadata": {},
   "outputs": [
    {
     "name": "stdout",
     "output_type": "stream",
     "text": [
      "2\n",
      "3\n",
      "5\n",
      "7\n",
      "11\n",
      "13\n",
      "17\n",
      "19\n",
      "23\n",
      "29\n",
      "31\n",
      "37\n",
      "41\n",
      "43\n",
      "47\n",
      "53\n",
      "59\n",
      "61\n",
      "67\n",
      "71\n"
     ]
    }
   ],
   "source": [
    "primes_gen = primes()\n",
    "for i in range(20):\n",
    "    print(next(primes_gen))"
   ]
  },
  {
   "cell_type": "code",
   "execution_count": null,
   "id": "826dc558-cbc7-49e6-ae57-fb04d12ec3bc",
   "metadata": {},
   "outputs": [],
   "source": []
  },
  {
   "cell_type": "markdown",
   "id": "3f9450f6-ce79-4f20-8105-cd63360128e3",
   "metadata": {},
   "source": [
    "# Write a python program to print the first 10 Fibonacci numbers using a while loop."
   ]
  },
  {
   "cell_type": "code",
   "execution_count": 20,
   "id": "9641f56d-f582-4f23-ba06-10c71f4291f3",
   "metadata": {},
   "outputs": [
    {
     "name": "stdout",
     "output_type": "stream",
     "text": [
      "0\n",
      "1\n",
      "1\n",
      "2\n",
      "3\n",
      "5\n",
      "8\n",
      "13\n",
      "21\n",
      "34\n"
     ]
    }
   ],
   "source": [
    "n = 10\n",
    "a = 0\n",
    "b = 1\n",
    "\n",
    "d = 0 \n",
    "while d < n:\n",
    "    print(a)\n",
    "    c = a + b\n",
    "    a = b\n",
    "    b = c\n",
    "    d = d + 1"
   ]
  },
  {
   "cell_type": "markdown",
   "id": "3bc32975-4aeb-4460-8ce9-5c9d5cdfd849",
   "metadata": {},
   "source": [
    "# Q7. Write a List Comprehension to iterate through the given string: ‘pwskills’.\n",
    "Expected output: ['p', 'w', 's', 'k', 'i', 'l', 'l', 's']"
   ]
  },
  {
   "cell_type": "code",
   "execution_count": 21,
   "id": "39a82585-c819-4a9c-9c39-28630bb54abd",
   "metadata": {},
   "outputs": [],
   "source": [
    "a = \"pwskills\""
   ]
  },
  {
   "cell_type": "code",
   "execution_count": 22,
   "id": "96a5f73f-85e8-47b6-ba47-36c2eea41b6e",
   "metadata": {},
   "outputs": [
    {
     "data": {
      "text/plain": [
       "['p', 'w', 's', 'k', 'i', 'l', 'l', 's']"
      ]
     },
     "execution_count": 22,
     "metadata": {},
     "output_type": "execute_result"
    }
   ],
   "source": [
    "[i for i in a]"
   ]
  },
  {
   "cell_type": "markdown",
   "id": "6a4fd87b-6d54-4514-8795-79136e8cd27b",
   "metadata": {},
   "source": [
    "# Write a python program to check whether a given number is Palindrome or not using a while loop.\n"
   ]
  },
  {
   "cell_type": "code",
   "execution_count": 23,
   "id": "b1947013-d73b-4b44-b3bc-cda7106dc348",
   "metadata": {},
   "outputs": [
    {
     "name": "stdin",
     "output_type": "stream",
     "text": [
      "Enter the number 6757\n"
     ]
    },
    {
     "name": "stdout",
     "output_type": "stream",
     "text": [
      "Not a palindrome!\n"
     ]
    }
   ],
   "source": [
    "num = int(input(\"Enter the number\"))\n",
    "\n",
    "temp=num\n",
    "rev=0\n",
    "while(num>0):\n",
    "    rev=rev*10+num %10\n",
    "    num=num//10\n",
    "if(temp==rev):\n",
    "    print(\"The number is palindrome!\")\n",
    "else:\n",
    "    print(\"Not a palindrome!\") \n",
    "    \n",
    "              "
   ]
  },
  {
   "cell_type": "markdown",
   "id": "e85eee28-e4cd-4ccf-9695-714b39815803",
   "metadata": {},
   "source": [
    "# Write a code to print odd numbers from 1 to 100 using list comprehension.\n",
    "Note: Use a list comprehension to create a list from 1 to 100 and use another List comprehension to filter\n",
    "out odd numbers."
   ]
  },
  {
   "cell_type": "code",
   "execution_count": 24,
   "id": "9bf618da-6013-4dc4-bf6a-1f56c63a2d01",
   "metadata": {},
   "outputs": [
    {
     "data": {
      "text/plain": [
       "[1,\n",
       " 3,\n",
       " 5,\n",
       " 7,\n",
       " 9,\n",
       " 11,\n",
       " 13,\n",
       " 15,\n",
       " 17,\n",
       " 19,\n",
       " 21,\n",
       " 23,\n",
       " 25,\n",
       " 27,\n",
       " 29,\n",
       " 31,\n",
       " 33,\n",
       " 35,\n",
       " 37,\n",
       " 39,\n",
       " 41,\n",
       " 43,\n",
       " 45,\n",
       " 47,\n",
       " 49,\n",
       " 51,\n",
       " 53,\n",
       " 55,\n",
       " 57,\n",
       " 59,\n",
       " 61,\n",
       " 63,\n",
       " 65,\n",
       " 67,\n",
       " 69,\n",
       " 71,\n",
       " 73,\n",
       " 75,\n",
       " 77,\n",
       " 79,\n",
       " 81,\n",
       " 83,\n",
       " 85,\n",
       " 87,\n",
       " 89,\n",
       " 91,\n",
       " 93,\n",
       " 95,\n",
       " 97,\n",
       " 99]"
      ]
     },
     "execution_count": 24,
     "metadata": {},
     "output_type": "execute_result"
    }
   ],
   "source": [
    "[i for i in range(1,100) if i%2 != 0]"
   ]
  },
  {
   "cell_type": "code",
   "execution_count": null,
   "id": "fbfc0ef1-c15c-4431-8d60-7f54f9632c63",
   "metadata": {},
   "outputs": [],
   "source": []
  }
 ],
 "metadata": {
  "kernelspec": {
   "display_name": "Python 3 (ipykernel)",
   "language": "python",
   "name": "python3"
  },
  "language_info": {
   "codemirror_mode": {
    "name": "ipython",
    "version": 3
   },
   "file_extension": ".py",
   "mimetype": "text/x-python",
   "name": "python",
   "nbconvert_exporter": "python",
   "pygments_lexer": "ipython3",
   "version": "3.10.8"
  }
 },
 "nbformat": 4,
 "nbformat_minor": 5
}
